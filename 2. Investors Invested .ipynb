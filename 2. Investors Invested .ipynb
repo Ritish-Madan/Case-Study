{
 "cells": [
  {
   "cell_type": "markdown",
   "metadata": {},
   "source": [
    "**Problem Statement:-**\n",
    "\n",
    "Even after trying for so many times, your friend’s startup could not find the investment. So you decided to take this matter in your hand and try to find the list of investors who probably can invest in your friend’s startup. Your list will increase the chance of your friend startup getting some initial investment by contacting these investors. Find the top 5 investors who have invested maximum number of times (consider repeat investments in one company also). In a startup, multiple investors might have invested. So consider each investor for that startup. Ignore undisclosed investors."
   ]
  },
  {
   "cell_type": "code",
   "execution_count": 2,
   "metadata": {},
   "outputs": [
    {
     "name": "stdout",
     "output_type": "stream",
     "text": [
      "Sequoia Capital\n",
      "Accel Partners\n",
      "Kalaari Capital\n",
      "SAIF Partners\n",
      "Indian Angel Network\n"
     ]
    }
   ],
   "source": [
    "import pandas as pd\n",
    "import matplotlib.pyplot as plt\n",
    "with open(\"startup_funding.csv\", encoding=\"utf8\") as file:\n",
    "    fileData = pd.read_csv(file) #Reading File \n",
    "    fileData.InvestorsName.dropna(inplace = True)\n",
    "    def createDict(data):\n",
    "        d = {}\n",
    "        for i in data:\n",
    "            if(\",\" not in i):\n",
    "                if(d.get(i) == None):\n",
    "                    d[i] = 1\n",
    "                else:\n",
    "                    d[i] += 1\n",
    "            else:\n",
    "                string = i.strip().split(\",\")\n",
    "                for j in string:\n",
    "                    if(d.get(j.strip()) == None):\n",
    "                        d[j.strip()] = 1\n",
    "                    else:\n",
    "                        d[j.strip()] += 1\n",
    "        return d\n",
    "dictionary = createDict(fileData.InvestorsName)\n",
    "dictionary = {k: v for k, v in sorted(dictionary.items(), key=lambda item: item[1], reverse = True)}\n",
    "name = []\n",
    "for i in dictionary.keys():\n",
    "    name.append(i)\n",
    "for i in range(5):\n",
    "    print(name[i])"
   ]
  },
  {
   "cell_type": "markdown",
   "metadata": {},
   "source": [
    "**Justification:-**\n",
    "\n",
    "I read the file through read_csv in pandas and my main motive was to find the the investors invested maximum number of times. So, I dropped the NaN terms in investor Name columns and worked on the investor names column only. Then I created a function **createDict** and then I in that function I created a dictionary where I had to store the investor names as key and they number of times they invested as their values. So, I took the data as parameter in the function and data is basically the InvestorsName column of dataframe. SO I iterated through that column and saperated the names which were with the commas and counted their occurance. Then I sorted the dictionary in descending order according to their values. I printed the first 5 terms."
   ]
  }
 ],
 "metadata": {
  "kernelspec": {
   "display_name": "Python 3",
   "language": "python",
   "name": "python3"
  },
  "language_info": {
   "codemirror_mode": {
    "name": "ipython",
    "version": 3
   },
   "file_extension": ".py",
   "mimetype": "text/x-python",
   "name": "python",
   "nbconvert_exporter": "python",
   "pygments_lexer": "ipython3",
   "version": "3.7.4"
  }
 },
 "nbformat": 4,
 "nbformat_minor": 2
}
