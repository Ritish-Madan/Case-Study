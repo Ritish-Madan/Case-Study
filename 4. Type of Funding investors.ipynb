{
 "cells": [
  {
   "cell_type": "markdown",
   "metadata": {},
   "source": [
    "Even after putting so much effort in finding the probable investors, it didn't turn out to be helpful for your friend. So you went to your investor friend to understand the situation better and your investor friend explained to you about the different Investment Types and their features. This new information will be helpful in finding the right investor. Since your friend startup is at an early stage startup, the best-suited investment type would be - Seed Funding and Crowdfunding. Find the top 5 investors who have invested in a different number of startups and their investment type is Crowdfunding or Seed Funding. Correct spelling of investment types are - \"Private Equity\", \"Seed Funding\", \"Debt Funding\", and \"Crowd Funding\". Keep an eye for any spelling mistake. You can find this by printing unique values from this column. There are many errors in startup names. Ignore correcting all, just handle the important ones - Ola, Flipkart, Oyo and Paytm."
   ]
  },
  {
   "cell_type": "code",
   "execution_count": 11,
   "metadata": {},
   "outputs": [
    {
     "name": "stdout",
     "output_type": "stream",
     "text": [
      "Indian Angel Network  33\n",
      "Rajan Anandan  22\n",
      "Anupam Mittal  14\n",
      "Kunal Shah  14\n",
      "Group of Angel Investors  14\n"
     ]
    },
    {
     "data": {
      "image/png": "[encoded data removed]",
      "text/plain": [
       "<Figure size 432x288 with 1 Axes>"
      ]
     },
     "metadata": {
      "needs_background": "light"
     },
     "output_type": "display_data"
    }
   ],
   "source": [
    "import pandas as pd\n",
    "import numpy as np\n",
    "import matplotlib.pyplot as plt\n",
    "with open(\"startup_funding.csv\", encoding=\"utf8\") as file:\n",
    "    fileData = pd.read_csv(file)\n",
    "    \n",
    "    ########################################################\n",
    "        #Correcting the names of the important startups#\n",
    "    ########################################################\n",
    "    \n",
    "    fileData.StartupName.replace('Flipkart.com','Flipkart',inplace = True)\n",
    "    fileData.StartupName.replace('Ola Cabs','Ola',inplace = True)\n",
    "    fileData.StartupName.replace('Olacabs','Ola',inplace = True)\n",
    "    fileData.StartupName.replace('Paytm Marketplace','Paytm',inplace=True)\n",
    "    fileData.StartupName.replace('Oyo Rooms','Oyo',inplace=True)\n",
    "    fileData.StartupName.replace('Oyorooms','Oyo',inplace=True)\n",
    "    fileData.StartupName.replace('OyoRooms','Oyo',inplace=True)\n",
    "    fileData.StartupName.replace('OYO Rooms','Oyo',inplace=True)\n",
    "    \n",
    "    ###############################################################\n",
    "        #Handling the names of Investment Type and NaN Values#\n",
    "    ###############################################################\n",
    "    \n",
    "    fileData.InvestmentType.fillna(\"Unknown\", inplace = True)\n",
    "    fileData.InvestmentType.replace(\"Crowd funding\",\"Crowd Funding\", inplace = True )\n",
    "    fileData.InvestmentType.replace('PrivateEquity','Private Equity', inplace = True )\n",
    "    fileData.InvestmentType.replace(\"SeedFunding\",\"Seed Funding\", inplace = True)\n",
    "    \n",
    "    ###### Handling  NaN values in Investor's Name #########\n",
    "    \n",
    "    fileData.InvestorsName.fillna(\"Unknown\", inplace = True)\n",
    "    \n",
    "    #################################################################################\n",
    "        #Creating Dictionary filtering to type of investment and stripping them#\n",
    "    #################################################################################\n",
    "    \n",
    "    def createDict(start, inv, invType):\n",
    "        d = {}\n",
    "        for i in range(len(fileData[\"StartupName\"])): #iterate through every row\n",
    "            if(invType[i] == \"Seed Funding\" or invType[i] == \"Crowd Funding\"): #Checking if type is seed or crowd funding\n",
    "                if(start[i] not in d):\n",
    "                    d[start[i]] = set()\n",
    "                    if(\",\" not in inv[i]):\n",
    "                        d[start[i]].add(inv[i].strip())\n",
    "                    else:\n",
    "                        string = inv[i].strip().split(\",\")\n",
    "                        for j in string:\n",
    "                            d[start[i]].add(j.strip())\n",
    "                else:\n",
    "                    d[start[i]].add(inv[i])\n",
    "        return d\n",
    "    \n",
    "    dictionary = createDict(fileData[\"StartupName\"], fileData[\"InvestorsName\"], fileData[\"InvestmentType\"])\n",
    "\n",
    "    #########################################\n",
    "        ##Building set of unique names##\n",
    "    ########################################\n",
    "    \n",
    "    li = set() #Unique name list\n",
    "    names = fileData.InvestorsName.unique()\n",
    "    for i in names:\n",
    "        if(\",\" not in i):\n",
    "            li.add(i.strip()) #Adding to set li, when single name is given\n",
    "        else:\n",
    "            s = i.strip().split(\",\") #Removing spaces(extra) and splitting on the basis of comma\n",
    "            for j in s:\n",
    "                li.add(j.strip())\n",
    "    ###############################################################\n",
    "            #Building dictionary for investor values#\n",
    "    ##############################################################\n",
    "    \n",
    "    e = {} #dictionary for values            \n",
    "    count = 0\n",
    "    for i in li:\n",
    "        for j in dictionary:\n",
    "            if(i in dictionary[j]):\n",
    "                count += 1\n",
    "        e[i] = count\n",
    "        count = 0\n",
    "    e[\"Undisclosed Investors\"] = -1\n",
    "    e[\"\"] = -1\n",
    "    e[\"Undisclosed investors\"] = -1\n",
    "    e = {k: v for k, v in sorted(e.items(), key=lambda item: item[1], reverse = True)}\n",
    "    \n",
    "    ########################################\n",
    "        #Extracting the final names#\n",
    "    ########################################\n",
    "    \n",
    "    n = []\n",
    "    l = []\n",
    "    for i in e:\n",
    "        n.append(i)\n",
    "    for i in e.values():\n",
    "        l.append(i)\n",
    "    for i in range(5):\n",
    "        print(n[i], \"\", l[i])\n",
    "    x = n[0:5]\n",
    "    y = l[0:5]\n",
    "    plt.bar(x,y)\n",
    "    plt.xlabel('Investor Name')\n",
    "    plt.ylabel('No. of time invested')\n",
    "    plt.xticks(rotation = 35)"
   ]
  },
  {
   "cell_type": "markdown",
   "metadata": {},
   "source": [
    "**Justification:-**\n",
    "As my friend's startup is in initial state so I have to find the number of investors whose investment type is Seed Funding and Crowd Funding type funding. So, I read the file and corrected the spelling mistakes of the Startup Names, Funding Types and handles NaN values. Then I filled NaN values in Investor type with Unknown to avoid errors I did this in order if I wanted to find the Unknowns in future I could have done with the same code. Instead of removing NaN. So Then created a function to make my code better, I terated through the dataframe filtering the Seed Funding and Crowd FUnding Investement type. Then I created a set in order to avoid the same names multiple times for a single startup. Then Created a set of startup names and splitted them when they were given with commas and then created a final dictionary where I calvulated the count of the investors investing in companies. I did this using Pandas and then plotted a bar graph using pyplot."
   ]
  }
 ],
 "metadata": {
  "kernelspec": {
   "display_name": "Python 3",
   "language": "python",
   "name": "python3"
  },
  "language_info": {
   "codemirror_mode": {
    "name": "ipython",
    "version": 3
   },
   "file_extension": ".py",
   "mimetype": "text/x-python",
   "name": "python",
   "nbconvert_exporter": "python",
   "pygments_lexer": "ipython3",
   "version": "3.7.4"
  }
 },
 "nbformat": 4,
 "nbformat_minor": 2
}
