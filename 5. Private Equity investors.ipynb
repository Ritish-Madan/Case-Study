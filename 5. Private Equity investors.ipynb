{
 "cells": [
  {
   "cell_type": "markdown",
   "metadata": {},
   "source": [
    "**Problem Statement:-**\n",
    "\n",
    "Due to your immense help, your friend startup successfully got seed funding and it is on the operational mode. Now your friend wants to expand his startup and he is looking for new investors for his startup. Now you again come as a saviour to help your friend and want to create a list of probable new new investors. Before moving forward you remember your investor friend advice that finding the investors by analysing the investment type. Since your friend startup is not in early phase it is in growth stage so the best-suited investment type is Private Equity. Find the top 5 investors who have invested in a different number of startups and their investment type is Private Equity. Correct spelling of investment types are - \"Private Equity\", \"Seed Funding\", \"Debt Funding\", and \"Crowd Funding\". Keep an eye for any spelling mistake. You can find this by printing unique values from this column.There are many errors in startup names. Ignore correcting all, just handle the important ones - Ola, Flipkart, Oyo and Paytm.\n"
   ]
  },
  {
   "cell_type": "code",
   "execution_count": 2,
   "metadata": {},
   "outputs": [
    {
     "name": "stdout",
     "output_type": "stream",
     "text": [
      "Accel Partners  37\n",
      "Sequoia Capital  36\n",
      "Kalaari Capital  32\n",
      "Blume Ventures  25\n",
      "SAIF Partners  21\n"
     ]
    },
    {
     "data": {
      "image/png": "[encoded data removed]",
      "text/plain": [
       "<Figure size 432x288 with 1 Axes>"
      ]
     },
     "metadata": {
      "needs_background": "light"
     },
     "output_type": "display_data"
    }
   ],
   "source": [
    "import pandas as pd\n",
    "import numpy as np\n",
    "import matplotlib.pyplot as plt\n",
    "with open(\"startup_funding.csv\", encoding=\"utf8\") as file:\n",
    "    fileData = pd.read_csv(file)\n",
    "    \n",
    "    ########################################################\n",
    "        #Correcting the names of the important startups#\n",
    "    ########################################################\n",
    "    \n",
    "    fileData.StartupName.replace('Flipkart.com','Flipkart',inplace = True)\n",
    "    fileData.StartupName.replace('Ola Cabs','Ola',inplace = True)\n",
    "    fileData.StartupName.replace('Olacabs','Ola',inplace = True)\n",
    "    fileData.StartupName.replace('Paytm Marketplace','Paytm',inplace=True)\n",
    "    fileData.StartupName.replace('Oyo Rooms','Oyo',inplace=True)\n",
    "    fileData.StartupName.replace('Oyorooms','Oyo',inplace=True)\n",
    "    fileData.StartupName.replace('OyoRooms','Oyo',inplace=True)\n",
    "    fileData.StartupName.replace('OYO Rooms','Oyo',inplace=True)\n",
    "    \n",
    "    ###############################################################\n",
    "        #Handling the names of Investment Type and NaN Values#\n",
    "    ###############################################################\n",
    "    \n",
    "    fileData.InvestmentType.fillna(\"Unknown\", inplace = True)\n",
    "    fileData.InvestmentType.replace(\"Crowd funding\",\"Crowd Funding\", inplace = True )\n",
    "    fileData.InvestmentType.replace('PrivateEquity','Private Equity', inplace = True )\n",
    "    fileData.InvestmentType.replace(\"SeedFunding\",\"Seed Funding\", inplace = True)\n",
    "    \n",
    "    ###### Handling  NaN values in Investor's Name #########\n",
    "    \n",
    "    fileData.InvestorsName.fillna(\"Unknown\", inplace = True)\n",
    "    \n",
    "    #################################################################################\n",
    "        #Creating Dictionary filtering to type of investment and stripping them#\n",
    "    #################################################################################\n",
    "    \n",
    "    def createDict(start, inv, invType):\n",
    "        d = {}\n",
    "        for i in range(len(fileData[\"StartupName\"])): #iterate through every row\n",
    "            if(invType[i] == \"Private Equity\"): #Checking if type is seed or crowd funding\n",
    "                if(start[i] not in d): #checking if the name is already in dictionary\n",
    "                    d[start[i]] = set() #creating a set so that each company do not get repeated names\n",
    "                    if(\",\" not in inv[i]): #Splitting on the basis of commas\n",
    "                        d[start[i]].add(inv[i].strip()) #Adding element in set\n",
    "                    else:\n",
    "                        string = inv[i].strip().split(\",\") #When \",\" is present\n",
    "                        for j in string: #Iterating through all the investors after splitting\n",
    "                            d[start[i]].add(j.strip()) #Adding elements in set\n",
    "                else:\n",
    "                    d[start[i]].add(inv[i])\n",
    "        return d\n",
    "    \n",
    "    dictionary = createDict(fileData[\"StartupName\"], fileData[\"InvestorsName\"], fileData[\"InvestmentType\"])\n",
    "\n",
    "    #########################################\n",
    "        ##Building set of unique names##\n",
    "    ########################################\n",
    "    \n",
    "    li = set() #Unique name list\n",
    "    names = fileData.InvestorsName.unique()\n",
    "    for i in names:\n",
    "        if(\",\" not in i):\n",
    "            li.add(i.strip()) #Adding to set li, when single name is given\n",
    "        else:\n",
    "            s = i.strip().split(\",\") #Removing spaces(extra) and splitting on the basis of comma\n",
    "            for j in s:\n",
    "                li.add(j.strip())\n",
    "                \n",
    "    ###############################################################\n",
    "            #Building dictionary for investor values#\n",
    "    ##############################################################\n",
    "    \n",
    "    e = {} #dictionary for values            \n",
    "    count = 0\n",
    "    for i in li:\n",
    "        for j in dictionary:\n",
    "            if(i in dictionary[j]):\n",
    "                count += 1\n",
    "        e[i] = count\n",
    "        count = 0\n",
    "    e[\"Undisclosed Investors\"] = -1 #Giving Unisclosed investors impossible values\n",
    "    e[\"\"] = -1 #Removing unwated items\n",
    "    e[\"Undisclosed investors\"] = -1 #Giving Unisclosed investors impossible values\n",
    "    e = {k: v for k, v in sorted(e.items(), key=lambda item: item[1], reverse = True)} #Sorting dict on basis of values\n",
    "    \n",
    "    ########################################\n",
    "        #Extracting the final names#\n",
    "    ########################################\n",
    "    \n",
    "    n = []\n",
    "    l = []\n",
    "    for i in e:\n",
    "        n.append(i)\n",
    "    for i in e.values():\n",
    "        l.append(i)\n",
    "    for i in range(5):\n",
    "        print(n[i], \"\", l[i])\n",
    "    x = n[0:5]\n",
    "    y = l[0:5]\n",
    "    \n",
    "    #################################\n",
    "        #Plotting Bar Graph#\n",
    "    ################################\n",
    "    \n",
    "    plt.bar(x,y)\n",
    "    plt.xlabel('Investor Name')\n",
    "    plt.ylabel('No. of time invested')\n",
    "    plt.xticks(rotation = 35)"
   ]
  },
  {
   "cell_type": "markdown",
   "metadata": {},
   "source": [
    "**Justification:-**\n",
    "As my friend's startup is in growth state so I have to find the number of investors whose investment type is Private Equity type funding. So, I read the file and corrected the spelling mistakes of the Startup Names, Funding Types and handles NaN values. Then I filled NaN values in Investor type with Unknown to avoid errors I did this in order if I wanted to find the Unknowns in future I could have done with the same code. Instead of removing NaN. So Then created a function to make my code better, I terated through the dataframe filtering the Private Equity Investement type. Then I created a set in order to avoid the same names multiple times for a single startup. Then Created a set of startup names and splitted them when they were given with commas and then created a final dictionary where I calvulated the count of the investors investing in companies. I did this using Pandas and then plotted a bar graph using pyplot."
   ]
  }
 ],
 "metadata": {
  "kernelspec": {
   "display_name": "Python 3",
   "language": "python",
   "name": "python3"
  },
  "language_info": {
   "codemirror_mode": {
    "name": "ipython",
    "version": 3
   },
   "file_extension": ".py",
   "mimetype": "text/x-python",
   "name": "python",
   "nbconvert_exporter": "python",
   "pygments_lexer": "ipython3",
   "version": "3.7.4"
  }
 },
 "nbformat": 4,
 "nbformat_minor": 2
}
