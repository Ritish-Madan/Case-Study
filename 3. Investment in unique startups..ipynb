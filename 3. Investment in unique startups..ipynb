{
 "cells": [
  {
   "cell_type": "markdown",
   "metadata": {},
   "source": [
    "**Problem Statement:-**\n",
    "\n",
    "After re-analysing the dataset you found out that some investors have invested in the same startup at different number of funding rounds. So before finalising the previous list, you want to improvise it by finding the top 5 investors who have invested in different number of startups. This list will be more helpful than your previous list in finding the investment for your friend startup. Find the top 5 investors who have invested maximum number of times in different companies. That means, if one investor has invested multiple times in one startup, count one for that company. There are many errors in startup names. Ignore correcting all, just handle the important ones - Ola, Flipkart, Oyo and Paytm."
   ]
  },
  {
   "cell_type": "code",
   "execution_count": 6,
   "metadata": {},
   "outputs": [
    {
     "name": "stdout",
     "output_type": "stream",
     "text": [
      "Sequoia Capital\n",
      "Indian Angel Network\n",
      "Accel Partners\n",
      "Kalaari Capital\n",
      "Blume Ventures\n"
     ]
    }
   ],
   "source": [
    "import pandas as pd\n",
    "import matplotlib.pyplot as plt\n",
    "with open(\"startup_funding.csv\", encoding=\"utf8\") as file:\n",
    "    fileData = pd.read_csv(file) #Reading File \n",
    "    ####################################################\n",
    "            #Correcting the major names#\n",
    "    ####################################################\n",
    "    fileData.StartupName.replace('Flipkart.com','Flipkart',inplace = True)\n",
    "    fileData.StartupName.replace('Ola Cabs','Ola',inplace = True)\n",
    "    fileData.StartupName.replace('Olacabs','Ola',inplace = True)\n",
    "    fileData.StartupName.replace('Paytm Marketplace','Paytm',inplace=True)\n",
    "    fileData.StartupName.replace('Oyo Rooms','Oyo',inplace=True)\n",
    "    fileData.StartupName.replace('Oyorooms','Oyo',inplace=True)\n",
    "    fileData.StartupName.replace('OyoRooms','Oyo',inplace=True)\n",
    "    fileData.StartupName.replace('OYO Rooms','Oyo',inplace=True)\n",
    "    fileData.InvestorsName.fillna(\"Unknown\", inplace = True)\n",
    "    def createDict(inv, start):\n",
    "        d = {}\n",
    "        for i in range(len(fileData.StartupName)):\n",
    "            if(start[i] not in d):\n",
    "                d[start[i]] = set()\n",
    "                if(\",\" not in inv[i]):\n",
    "                    d[start[i]].add(inv[i].strip())\n",
    "                else:\n",
    "                    string = inv[i].strip().split(\",\")\n",
    "                    for j in string:\n",
    "                        d[start[i]].add(j.strip())\n",
    "            else:\n",
    "                d[start[i]].add(inv[i])\n",
    "        return d\n",
    "    dictionary = createDict(fileData[\"InvestorsName\"],fileData[\"StartupName\"])\n",
    "    \n",
    "    #########################################\n",
    "        ##Building set of unique names##\n",
    "    ########################################\n",
    "    \n",
    "    li = set() #Unique name list\n",
    "    names = fileData.InvestorsName.unique()\n",
    "    for i in names:\n",
    "        if(\",\" not in i):\n",
    "            li.add(i.strip()) #Adding to set li, when single name is given\n",
    "        else:\n",
    "            s = i.strip().split(\",\") #Removing spaces(extra) and splitting on the basis of comma\n",
    "            for j in s:\n",
    "                li.add(j.strip())\n",
    "                \n",
    "                \n",
    "    ###############################################################\n",
    "            #Building dictionary for investor values#\n",
    "    ##############################################################\n",
    "    \n",
    "    e = {} #dictionary for values            \n",
    "    count = 0\n",
    "    for i in li:\n",
    "        for j in dictionary:\n",
    "            if(i in dictionary[j]):\n",
    "                count += 1\n",
    "        e[i] = count\n",
    "        count = 0\n",
    "    e[\"Undisclosed Investors\"] = -1\n",
    "    e[\"\"] = -1\n",
    "    e[\"Undisclosed investors\"] = -1\n",
    "    e = {k: v for k, v in sorted(e.items(), key=lambda item: item[1], reverse = True)}\n",
    "    \n",
    "    ########################################\n",
    "        #Extracting the final names#\n",
    "    ########################################\n",
    "    \n",
    "    n = []\n",
    "    for i in e:\n",
    "        n.append(i)\n",
    "    for i in range(5):\n",
    "        print(n[i])"
   ]
  },
  {
   "cell_type": "markdown",
   "metadata": {},
   "source": [
    "**Justification:-**\n",
    "\n",
    "I read the file using read_csv in pandas and then my first step was to correct the names of the companies. So Then created a function **createDict** to make my code better, I iterated through the dataframe. Then I created a set in order to avoid the same names multiple times for a single startup. Then Created a set of startup names and splitted them when they were given with commas and then created a final dictionary where I calvulated the count of the investors investing in companies. I did this using Pandas and then plotted a bar graph using pyplot."
   ]
  }
 ],
 "metadata": {
  "kernelspec": {
   "display_name": "Python 3",
   "language": "python",
   "name": "python3"
  },
  "language_info": {
   "codemirror_mode": {
    "name": "ipython",
    "version": 3
   },
   "file_extension": ".py",
   "mimetype": "text/x-python",
   "name": "python",
   "nbconvert_exporter": "python",
   "pygments_lexer": "ipython3",
   "version": "3.7.4"
  }
 },
 "nbformat": 4,
 "nbformat_minor": 2
}
